{
 "cells": [
  {
   "cell_type": "markdown",
   "id": "0e5a3ab2",
   "metadata": {},
   "source": [
    "Exercise 1"
   ]
  },
  {
   "cell_type": "code",
   "execution_count": 1,
   "id": "193d8085",
   "metadata": {
    "scrolled": true
   },
   "outputs": [],
   "source": [
    "import pandas as pd\n",
    "import numpy as np\n",
    "from sklearn.preprocessing import StandardScaler"
   ]
  },
  {
   "cell_type": "markdown",
   "id": "3add1172",
   "metadata": {},
   "source": [
    "# First point"
   ]
  },
  {
   "cell_type": "code",
   "execution_count": 6,
   "id": "3aeddea8",
   "metadata": {},
   "outputs": [
    {
     "name": "stdout",
     "output_type": "stream",
     "text": [
      "Filas con datos atípicos:\n",
      "0       5\n",
      "1       1\n",
      "3       1\n",
      "4       1\n",
      "6       1\n",
      "       ..\n",
      "2235    2\n",
      "2236    3\n",
      "2237    2\n",
      "2238    1\n",
      "2239    2\n",
      "Length: 1598, dtype: int64\n"
     ]
    }
   ],
   "source": [
    "# Leer los datos del archivo CSV\n",
    "clientes_data = pd.read_csv('/Users/brayanbaez/bi/datos_de_clientes.csv', sep='\\t')\n",
    "\n",
    "#Arregla los datos de estado marital, quitando los valores atipicos \n",
    "\n",
    "# Reemplazar los valores \"YOLO\" y \"Absurd\" por \"Married\"\n",
    "clientes_data['Marital_Status'] = clientes_data['Marital_Status'].replace(['YOLO', 'Absurd'], 'Married')\n",
    "\n",
    "# Diccionarios de mapeo para codificación ordinal\n",
    "education_mapping = {'Basic': 1, '2n Cycle': 2, 'Graduation': 3, 'Master': 4, 'PhD': 5}\n",
    "marital_status_mapping = {'Alone': 1, 'Widow': 2, 'Divorced': 3, 'Single': 4, 'Together': 5, 'Married': 6}\n",
    "\n",
    "# Aplicar la codificación ordinal y reemplazar las columnas originales\n",
    "clientes_data['Education'] = clientes_data['Education'].map(education_mapping)\n",
    "clientes_data['Marital_Status'] = clientes_data['Marital_Status'].map(marital_status_mapping)\n",
    "\n",
    "#Revisar si hay espacio vacios\n",
    "# Iterar sobre las filas del DataFrame\n",
    "for index, row in clientes_data.iterrows():\n",
    "    # Verificar si hay un valor nulo en la columna 'ID'\n",
    "    if pd.isnull(row['ID']):\n",
    "        print(\"Hay un espacio vacío en el ID\", index)\n",
    "  \n",
    "\n",
    "# Convertir la columna 'Dt_Customer' a tipo datetime\n",
    "clientes_data['Dt_Customer'] = pd.to_datetime(clientes_data['Dt_Customer'], format='%d-%m-%Y')\n",
    "\n",
    "# Definir la función lambda para codificar las fechas\n",
    "def codificar_fecha(fecha):\n",
    "    if fecha.year < 2013:\n",
    "        return 1\n",
    "    elif fecha.year == 2013:\n",
    "        return 2\n",
    "    else:\n",
    "        return 3\n",
    "\n",
    "# Aplicar la función lambda a la columna 'Dt_Customer'\n",
    "clientes_data['Dt_Customer'] = clientes_data['Dt_Customer'].apply(lambda x: codificar_fecha(x))\n",
    "\n",
    "# Mostrar los primeros registros con la columna 'Dt_Customer' codificada\n",
    "\n",
    "\n",
    "\n",
    "# Calcular los cuartiles\n",
    "Q1 = clientes_data.quantile(0.25)\n",
    "Q3 = clientes_data.quantile(0.75)\n",
    "IQR = Q3 - Q1\n",
    "\n",
    "# Identificar datos atípicos\n",
    "datos_atipicos = (clientes_data < (Q1 - 1.5 * IQR)) | (clientes_data > (Q3 + 1.5 * IQR))\n",
    "\n",
    "# Contar el número de datos atípicos por fila\n",
    "num_datos_atipicos_por_fila = datos_atipicos.sum(axis=1)\n",
    "\n",
    "# Filtrar las filas que tienen al menos un dato atípico\n",
    "filas_con_datos_atipicos = num_datos_atipicos_por_fila[num_datos_atipicos_por_fila > 0]\n",
    "\n",
    "# Mostrar las filas con datos atípicos\n",
    "print(\"Filas con datos atípicos:\")\n",
    "print(filas_con_datos_atipicos)\n",
    "\n",
    "\n"
   ]
  },
  {
   "cell_type": "markdown",
   "id": "6fceb901",
   "metadata": {},
   "source": []
  }
 ],
 "metadata": {
  "kernelspec": {
   "display_name": "Python 3 (ipykernel)",
   "language": "python",
   "name": "python3"
  },
  "language_info": {
   "codemirror_mode": {
    "name": "ipython",
    "version": 3
   },
   "file_extension": ".py",
   "mimetype": "text/x-python",
   "name": "python",
   "nbconvert_exporter": "python",
   "pygments_lexer": "ipython3",
   "version": "3.11.5"
  }
 },
 "nbformat": 4,
 "nbformat_minor": 5
}
