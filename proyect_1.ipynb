{
 "cells": [
  {
   "cell_type": "markdown",
   "id": "0e5a3ab2",
   "metadata": {},
   "source": [
    "Exercise 1"
   ]
  },
  {
   "cell_type": "code",
   "execution_count": 32,
   "id": "193d8085",
   "metadata": {
    "scrolled": true
   },
   "outputs": [],
   "source": [
    "import pandas as pd\n",
    "import numpy as np\n",
    "from sklearn.preprocessing import StandardScaler"
   ]
  },
  {
   "cell_type": "markdown",
   "id": "3add1172",
   "metadata": {},
   "source": [
    "# First point"
   ]
  },
  {
   "cell_type": "code",
   "execution_count": 43,
   "id": "3aeddea8",
   "metadata": {},
   "outputs": [
    {
     "name": "stdout",
     "output_type": "stream",
     "text": [
      "Conteo por estado matrimonial:\n",
      "Marital_Status\n",
      "Married     864\n",
      "Together    580\n",
      "Single      480\n",
      "Divorced    232\n",
      "Widow        77\n",
      "Alone         3\n",
      "Absurd        2\n",
      "YOLO          2\n",
      "Name: count, dtype: int64\n",
      "['Single' 'Together' 'Married' 'Divorced' 'Widow' 'Alone']\n",
      "Conteo por estado matrimonial:\n",
      "Marital_Status\n",
      "Married     864\n",
      "Together    580\n",
      "Single      480\n",
      "Divorced    232\n",
      "Widow        77\n",
      "Alone         3\n",
      "Absurd        2\n",
      "YOLO          2\n",
      "Name: count, dtype: int64\n"
     ]
    }
   ],
   "source": [
    "# Leer los datos del archivo CSV\n",
    "clientes_data = pd.read_csv('/Users/brayanbaez/bi/datos_de_clientes.csv', sep='\\t')\n",
    "\n",
    "conteo_por_estado_matrimonial = clientes_data['Marital_Status'].value_counts()\n",
    "\n",
    "# Mostrar el conteo por estado matrimonial\n",
    "print(\"Conteo por estado matrimonial:\")\n",
    "print(conteo_por_estado_matrimonial)\n",
    "\n",
    "\n",
    "\n",
    "# Reemplazar los valores \"YOLO\" y \"Absurd\" por \"Married\"\n",
    "clientes_data['Marital_Status'] = clientes_data['Marital_Status'].replace(['YOLO', 'Absurd'], 'Married')\n",
    "\n",
    "# Verificar los cambios\n",
    "print(clientes_data['Marital_Status'].unique())\n",
    "\n",
    "# Mostrar el conteo por estado matrimonial\n",
    "print(\"Conteo por estado matrimonial:\")\n",
    "print(conteo_por_estado_matrimonial)\n"
   ]
  },
  {
   "cell_type": "markdown",
   "id": "edb29d72",
   "metadata": {},
   "source": []
  }
 ],
 "metadata": {
  "kernelspec": {
   "display_name": "Python 3 (ipykernel)",
   "language": "python",
   "name": "python3"
  },
  "language_info": {
   "codemirror_mode": {
    "name": "ipython",
    "version": 3
   },
   "file_extension": ".py",
   "mimetype": "text/x-python",
   "name": "python",
   "nbconvert_exporter": "python",
   "pygments_lexer": "ipython3",
   "version": "3.11.5"
  }
 },
 "nbformat": 4,
 "nbformat_minor": 5
}
