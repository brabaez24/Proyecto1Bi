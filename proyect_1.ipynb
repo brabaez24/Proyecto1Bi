{
 "cells": [
  {
   "cell_type": "markdown",
   "id": "0e5a3ab2",
   "metadata": {},
   "source": [
    "Exercise 1"
   ]
  },
  {
   "cell_type": "code",
   "execution_count": 1,
   "id": "193d8085",
   "metadata": {
    "scrolled": true
   },
   "outputs": [],
   "source": [
    "import pandas as pd\n",
    "import numpy as np\n",
    "from sklearn.preprocessing import StandardScaler"
   ]
  },
  {
   "cell_type": "markdown",
   "id": "3add1172",
   "metadata": {},
   "source": [
    "# First point"
   ]
  },
  {
   "cell_type": "code",
   "execution_count": 22,
   "id": "3aeddea8",
   "metadata": {},
   "outputs": [
    {
     "name": "stdout",
     "output_type": "stream",
     "text": [
      "Número de filas: 2240\n",
      "Número de filas después de eliminar los valores atípicos: 1536\n"
     ]
    }
   ],
   "source": [
    "# Leer los datos del archivo CSV\n",
    "clientes_data = pd.read_csv('/Users/brayanbaez/bi/datos_de_clientes.csv', sep='\\t')\n",
    "\n",
    "\n",
    "#Arregla los datos de estado marital, quitando los valores atipicos \n",
    "\n",
    "# Reemplazar los valores \"YOLO\" y \"Absurd\" por \"Married\"\n",
    "clientes_data['Marital_Status'] = clientes_data['Marital_Status'].replace(['YOLO', 'Absurd'], 'Married')\n",
    "\n",
    "# Diccionarios de mapeo para codificación ordinal\n",
    "education_mapping = {'Basic': 1, '2n Cycle': 2, 'Graduation': 3, 'Master': 4, 'PhD': 5}\n",
    "marital_status_mapping = {'Alone': 1, 'Widow': 2, 'Divorced': 3, 'Single': 4, 'Together': 5, 'Married': 6}\n",
    "\n",
    "# Aplicar la codificación ordinal y reemplazar las columnas originales\n",
    "clientes_data['Education'] = clientes_data['Education'].map(education_mapping)\n",
    "clientes_data['Marital_Status'] = clientes_data['Marital_Status'].map(marital_status_mapping)\n",
    "\n",
    "#Revisar si hay espacio vacios\n",
    "# Iterar sobre las filas del DataFrame\n",
    "for index, row in clientes_data.iterrows():\n",
    "    # Verificar si hay un valor nulo en la columna 'ID'\n",
    "    if pd.isnull(row['ID']):\n",
    "        print(\"Hay un espacio vacío en el ID\", index)\n",
    "  \n",
    "\n",
    "# Convertir la columna 'Dt_Customer' a tipo datetime\n",
    "clientes_data['Dt_Customer'] = pd.to_datetime(clientes_data['Dt_Customer'], format='%d-%m-%Y')\n",
    "\n",
    "# Definir la función lambda para codificar las fechas\n",
    "def codificar_fecha(fecha):\n",
    "    if fecha.year < 2013:\n",
    "        return 1\n",
    "    elif fecha.year == 2013:\n",
    "        return 2\n",
    "    else:\n",
    "        return 3\n",
    "\n",
    "# Aplicar la función lambda a la columna 'Dt_Customer'\n",
    "    \n",
    "clientes_data['Dt_Customer'] = clientes_data['Dt_Customer'].apply(lambda x: codificar_fecha(x))\n",
    "# Obtener la cantidad de filas y columnas\n",
    "num_filas1, num_columnas1 = clientes_data.shape\n",
    "\n",
    "# Imprimir el número de filas\n",
    "print(\"Número de filas:\", num_filas1)\n",
    "# Calcular los cuartiles para cada columna\n",
    "Q1_income = clientes_data['Income'].quantile(0.25)\n",
    "Q3_income = clientes_data['Income'].quantile(0.75)\n",
    "IQR_income = Q3_income - Q1_income\n",
    "\n",
    "Q1_recency = clientes_data['Recency'].quantile(0.25)\n",
    "Q3_recency = clientes_data['Recency'].quantile(0.75)\n",
    "IQR_recency = Q3_recency - Q1_recency\n",
    "\n",
    "# Calcula Q1, Q3 e IQR para las columnas relacionadas con el gasto en productos\n",
    "columns_mnt = ['MntWines', 'MntFruits', 'MntMeatProducts', 'MntFishProducts', 'MntSweetProducts', 'MntGoldProds']\n",
    "Q1_mnt = clientes_data[columns_mnt].quantile(0.25)\n",
    "Q3_mnt = clientes_data[columns_mnt].quantile(0.75)\n",
    "IQR_mnt = Q3_mnt - Q1_mnt\n",
    "\n",
    "# Calcula Q1, Q3 e IQR para las columnas relacionadas con el número de compras y visitas\n",
    "columns_purchases_visits = ['NumDealsPurchases', 'NumWebPurchases', 'NumCatalogPurchases', 'NumStorePurchases', 'NumWebVisitsMonth']\n",
    "Q1_purchases_visits = clientes_data[columns_purchases_visits].quantile(0.25)\n",
    "Q3_purchases_visits = clientes_data[columns_purchases_visits].quantile(0.75)\n",
    "IQR_purchases_visits = Q3_purchases_visits - Q1_purchases_visits\n",
    "\n",
    "# Identificar datos atípicos en las columnas seleccionadas\n",
    "datos_atipicos_income = (clientes_data['Income'] < (Q1_income - 1.5 * IQR_income)) | (clientes_data['Income'] > (Q3_income + 1.5 * IQR_income))\n",
    "datos_atipicos_recency = (clientes_data['Recency'] < (Q1_recency - 1.5 * IQR_recency)) | (clientes_data['Recency'] > (Q3_recency + 1.5 * IQR_recency))\n",
    "datos_atipicos_mnt = ((clientes_data[columns_mnt] < (Q1_mnt - 1.5 * IQR_mnt)) | (clientes_data[columns_mnt] > (Q3_mnt + 1.5 * IQR_mnt))).any(axis=1)\n",
    "datos_atipicos_purchases_visits = ((clientes_data[columns_purchases_visits] < (Q1_purchases_visits - 1.5 * IQR_purchases_visits)) | (clientes_data[columns_purchases_visits] > (Q3_purchases_visits + 1.5 * IQR_purchases_visits))).any(axis=1)\n",
    "\n",
    "# Combinar los resultados de detección de valores atípicos\n",
    "datos_atipicos = datos_atipicos_income | datos_atipicos_recency | datos_atipicos_mnt | datos_atipicos_purchases_visits\n",
    "\n",
    "# Filtrar el DataFrame original para eliminar las filas con valores atípicos\n",
    "clientes_data_sin_atipicos = clientes_data[~datos_atipicos]\n",
    "\n",
    "# Imprimir el número de filas después de eliminar los valores atípicos\n",
    "print(\"Número de filas después de eliminar los valores atípicos:\", clientes_data_sin_atipicos.shape[0])\n",
    "\n",
    "\n",
    "\n"
   ]
  },
  {
   "cell_type": "markdown",
   "id": "6fceb901",
   "metadata": {},
   "source": []
  }
 ],
 "metadata": {
  "kernelspec": {
   "display_name": "Python 3 (ipykernel)",
   "language": "python",
   "name": "python3"
  },
  "language_info": {
   "codemirror_mode": {
    "name": "ipython",
    "version": 3
   },
   "file_extension": ".py",
   "mimetype": "text/x-python",
   "name": "python",
   "nbconvert_exporter": "python",
   "pygments_lexer": "ipython3",
   "version": "3.11.5"
  }
 },
 "nbformat": 4,
 "nbformat_minor": 5
}
